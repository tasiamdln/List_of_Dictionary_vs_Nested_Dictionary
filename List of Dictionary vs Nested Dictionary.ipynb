{
 "cells": [
  {
   "cell_type": "markdown",
   "metadata": {},
   "source": [
    "Pengujian Kecepatan Akses, Edit, dan Tambah Data pada List of Dictionary (LoD) vs. Nested Dictionary (NoD):\n",
    "\n",
    "Struktur Data:\n",
    "\n",
    "**List of Dictionary (LoD):**"
   ]
  },
  {
   "cell_type": "code",
   "execution_count": 28,
   "metadata": {},
   "outputs": [],
   "source": [
    "# Data contoh untuk List of Dictionary (LoD)\n",
    "all_buku_lod = [\n",
    "    {\"Book_ID\": 1001, \"Title\": \"Sang Alkemis\", \"Genre\": \"Fiction\", \"Author\": \"Paulo Coelho\", \"Publisher\": \"Gramedia\", \"Tahun_Terbit\": 2018, \"Stock\": 5},\n",
    "    {\"Book_ID\": 1002, \"Title\": \"Summer In Seoul\", \"Genre\": \"Romance\", \"Author\": \"Ilana Tan\", \"Publisher\": \"Gramedia\", \"Tahun_Terbit\": 2014, \"Stock\": 10}\n",
    "]\n"
   ]
  },
  {
   "cell_type": "markdown",
   "metadata": {},
   "source": [
    "**Nested Dictionary (NoD):**"
   ]
  },
  {
   "cell_type": "code",
   "execution_count": 29,
   "metadata": {},
   "outputs": [],
   "source": [
    "# Data contoh untuk Nested Dictionary (NoD)\n",
    "all_buku_nod = {\n",
    "    'daftar1': {\"Book_ID\": 1001, \"Title\": \"Sang Alkemis\", \"Genre\": \"Fiction\", \"Author\": \"Paulo Coelho\", \"Publisher\": \"Gramedia\", \"Tahun_Terbit\": 2018, \"Stock\": 5},\n",
    "    'daftar2': {\"Book_ID\": 1002, \"Title\": \"Summer In Seoul\", \"Genre\": \"Romance\", \"Author\": \"Ilana Tan\", \"Publisher\": \"Gramedia\", \"Tahun_Terbit\": 2014, \"Stock\": 10}\n",
    "}\n"
   ]
  },
  {
   "cell_type": "markdown",
   "metadata": {},
   "source": [
    "**Pengujian dan Pengukuran Waktu Eksekusi:**"
   ]
  },
  {
   "cell_type": "code",
   "execution_count": 30,
   "metadata": {},
   "outputs": [
    {
     "data": {
      "image/png": "[encoded data removed]",
      "text/plain": [
       "<Figure size 640x480 with 1 Axes>"
      ]
     },
     "metadata": {},
     "output_type": "display_data"
    }
   ],
   "source": [
    "import timeit\n",
    "import matplotlib.pyplot as plt\n",
    "\n",
    "# Pengujian kecepatan akses data pada List of Dictionary (LoD)\n",
    "def test_access_data_lod():\n",
    "    for buku in all_buku_lod:\n",
    "        buku[\"Title\"]\n",
    "\n",
    "# Pengujian kecepatan akses data pada Nested Dictionary (NoD)\n",
    "def test_access_data_nod():\n",
    "    for daftar in all_buku_nod:\n",
    "        all_buku_nod[daftar][\"Title\"]\n",
    "\n",
    "# Pengujian kecepatan edit data pada List of Dictionary (LoD)\n",
    "def test_edit_data_lod():\n",
    "    for i in range(len(all_buku_lod)):\n",
    "        all_buku_lod[i][\"Stock\"] = 10\n",
    "\n",
    "# Pengujian kecepatan edit data pada Nested Dictionary (NoD)\n",
    "def test_edit_data_nod():\n",
    "    for daftar in all_buku_nod:\n",
    "        all_buku_nod[daftar][\"Stock\"] = 10\n",
    "\n",
    "# Pengujian kecepatan tambah data pada List of Dictionary (LoD)\n",
    "def test_add_data_lod():\n",
    "    all_buku_lod.append({\"Book_ID\": 1003, \"Title\": \"New Book\", \"Genre\": \"Adventure\", \"Author\": \"John Doe\", \"Publisher\": \"Random Publisher\", \"Tahun_Terbit\": 2022, \"Stock\": 3})\n",
    "\n",
    "# Pengujian kecepatan tambah data pada Nested Dictionary (NoD)\n",
    "def test_add_data_nod():\n",
    "    all_buku_nod[\"daftar3\"] = {\"Book_ID\": 1003, \"Title\": \"New Book\", \"Genre\": \"Adventure\", \"Author\": \"John Doe\", \"Publisher\": \"Random Publisher\", \"Tahun_Terbit\": 2022, \"Stock\": 3}\n",
    "\n",
    "# Pengukuran waktu eksekusi untuk masing-masing pengujian\n",
    "access_time_lod = timeit.timeit(test_access_data_lod, number=100000)\n",
    "access_time_nod = timeit.timeit(test_access_data_nod, number=100000)\n",
    "\n",
    "edit_time_lod = timeit.timeit(test_edit_data_lod, number=100000)\n",
    "edit_time_nod = timeit.timeit(test_edit_data_nod, number=100000)\n",
    "\n",
    "add_time_lod = timeit.timeit(test_add_data_lod, number=100000)\n",
    "add_time_nod = timeit.timeit(test_add_data_nod, number=100000)\n",
    "\n",
    "# Plotting grafik perbandingan hasil pengujian\n",
    "labels = ['Access', 'Edit', 'Add']\n",
    "lod_times = [access_time_lod, edit_time_lod, add_time_lod]\n",
    "nod_times = [access_time_nod, edit_time_nod, add_time_nod]\n",
    "\n",
    "x = list(range(len(labels)))  # Mengubah tipe data x dari range menjadi list\n",
    "width = 0.35\n",
    "\n",
    "fig, ax = plt.subplots()\n",
    "rects1 = ax.bar([val - width/2 for val in x], lod_times, width, label='List of Dictionary')\n",
    "rects2 = ax.bar([val + width/2 for val in x], nod_times, width, label='Nested Dictionary')\n",
    "\n",
    "ax.set_ylabel('Time (seconds)')\n",
    "ax.set_title('Performance Comparison')\n",
    "ax.set_xticks(x)\n",
    "ax.set_xticklabels(labels)\n",
    "ax.legend()\n",
    "\n",
    "fig.tight_layout()\n",
    "plt.show()\n"
   ]
  },
  {
   "cell_type": "markdown",
   "metadata": {},
   "source": [
    "Kelemahan dan Kelebihan List of Dictionary (LoD) vs. Nested Dictionary (NoD) berdasarkan Pengujian:\n",
    "\n",
    "**Kelemahan List of Dictionary (LoD):**\n",
    "\n",
    "1. Akses data memerlukan perulangan melalui setiap elemen dalam list, sehingga kurang efisien ketika mencari elemen tertentu jika list sangat besar.\n",
    "2. Operasi tambah data (add) memerlukan perluasan (appending) ke list, yang dapat menjadi lambat jika list memiliki banyak elemen.\n",
    "\n",
    "**Kelebihan List of Dictionary (LoD):**\n",
    "\n",
    "1. Akses data dapat dilakukan secara sederhana dengan menggunakan  **for loop**, terutama jika data memiliki indeks yang berurutan (seperti contoh).\n",
    "2. Struktur datanya lebih sederhana karena hanya menggunakan list.\n",
    "\n",
    "**Kelemahan Nested Dictionary (NoD):**\n",
    "\n",
    "1. Akses data memerlukan perulangan melalui setiap elemen dalam nested dictionary, yang memungkinkan efisiensi lebih rendah jika nested dictionary memiliki banyak tingkat.\n",
    "\n",
    "**Kelebihan Nested Dictionary (NoD):**\n",
    "\n",
    "1. Akses data menggunakan key (kunci) sebagai referensi, sehingga lebih cepat jika key tersebut diketahui.\n",
    "2. Dapat memiliki struktur data yang lebih kompleks karena mendukung penggunaan multiple levels dan key-value pairs.\n",
    "\n",
    "\n",
    "**Tips Memilih Antara List of Dictionary (LoD) vs. Nested Dictionary (NoD):**\n",
    "\n",
    "1. Pilih List of Dictionary (LoD) jika data bersifat linear dan tidak memerlukan tingkat kompleksitas yang tinggi.\n",
    "2. Pilih Nested Dictionary (NoD) jika data memiliki struktur hierarkis yang lebih kompleks dan memerlukan akses data dengan key yang unik dan mudah diidentifikasi.\n",
    "\n",
    "Dengan melakukan pengujian kecepatan dan mempertimbangkan kelemahan serta kelebihan keduanya, kita dapat memilih struktur data yang sesuai dengan kebutuhan dan kompleksitas data yang Anda miliki. Pengujian ini membantu dalam menentukan jenis struktur data yang lebih efisien untuk digunakan dalam skenario."
   ]
  }
 ],
 "metadata": {
  "kernelspec": {
   "display_name": "Python 3",
   "language": "python",
   "name": "python3"
  },
  "language_info": {
   "codemirror_mode": {
    "name": "ipython",
    "version": 3
   },
   "file_extension": ".py",
   "mimetype": "text/x-python",
   "name": "python",
   "nbconvert_exporter": "python",
   "pygments_lexer": "ipython3",
   "version": "3.11.4"
  },
  "orig_nbformat": 4
 },
 "nbformat": 4,
 "nbformat_minor": 2
}
